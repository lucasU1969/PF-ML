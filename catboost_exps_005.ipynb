{
 "cells": [
  {
   "cell_type": "code",
   "execution_count": 4,
   "id": "48dc08c9",
   "metadata": {},
   "outputs": [
    {
     "name": "stdout",
     "output_type": "stream",
     "text": [
      "The autoreload extension is already loaded. To reload it, use:\n",
      "  %reload_ext autoreload\n"
     ]
    }
   ],
   "source": [
    "%load_ext autoreload\n",
    "%autoreload 2"
   ]
  },
  {
   "cell_type": "code",
   "execution_count": 5,
   "id": "40209f79",
   "metadata": {},
   "outputs": [],
   "source": [
    "from src.preprocessing import Preprocessor\n",
    "from sklearn.model_selection import train_test_split, KFold\n",
    "import pandas as pd\n",
    "from catboost import CatBoostRegressor\n",
    "import numpy as np\n",
    "from sklearn.metrics import mean_squared_error, r2_score, mean_absolute_error"
   ]
  },
  {
   "cell_type": "code",
   "execution_count": 7,
   "id": "fc42ab46",
   "metadata": {},
   "outputs": [],
   "source": [
    "dataset = pd.read_csv(\"data/pf_suvs_i302_1s2025.csv\")"
   ]
  },
  {
   "cell_type": "code",
   "execution_count": 8,
   "id": "03b04134",
   "metadata": {},
   "outputs": [],
   "source": [
    "train, test = train_test_split(dataset, test_size=0.2, random_state=42)\n",
    "val, test = train_test_split(test, test_size=0.5, random_state=42)"
   ]
  },
  {
   "cell_type": "markdown",
   "id": "33a506a4",
   "metadata": {},
   "source": [
    "## Cross-validation"
   ]
  },
  {
   "cell_type": "code",
   "execution_count": 9,
   "id": "ba43d473",
   "metadata": {},
   "outputs": [
    {
     "name": "stdout",
     "output_type": "stream",
     "text": [
      "Modelo 1/6\n",
      "depth=4, learning_rate=0.1, subsample=0.75, min_data_in_leaf=10, colsample_bylevel=0.75\n",
      "Promedio RMSE: 7307.149304239581\n",
      "Modelo 2/6\n",
      "depth=4, learning_rate=0.1, subsample=0.75, min_data_in_leaf=100, colsample_bylevel=0.75\n",
      "Promedio RMSE: 7307.149304239581\n",
      "Modelo 3/6\n",
      "depth=6, learning_rate=0.1, subsample=0.75, min_data_in_leaf=10, colsample_bylevel=0.75\n",
      "Promedio RMSE: 7066.017924165086\n",
      "Modelo 4/6\n",
      "depth=6, learning_rate=0.1, subsample=0.75, min_data_in_leaf=100, colsample_bylevel=0.75\n",
      "Promedio RMSE: 7066.017924165086\n",
      "Modelo 5/6\n",
      "depth=8, learning_rate=0.1, subsample=0.75, min_data_in_leaf=10, colsample_bylevel=0.75\n",
      "Promedio RMSE: 7023.228135067833\n",
      "Modelo 6/6\n",
      "depth=8, learning_rate=0.1, subsample=0.75, min_data_in_leaf=100, colsample_bylevel=0.75\n",
      "Promedio RMSE: 7023.228135067833\n",
      "Mejor configuración:\n",
      "depth=8, learning_rate=0.1, RMSE=7023.2281\n"
     ]
    }
   ],
   "source": [
    "depths=[4, 6, 8]\n",
    "learning_rates = [0.1]\n",
    "iterations = 1500\n",
    "subsamples = [0.75]\n",
    "min_data_in_leafs = [10, 100]\n",
    "colsample_bylevels = [0.75]\n",
    "\n",
    "k = 5\n",
    "kf = KFold(n_splits=k, shuffle=True, random_state=42)\n",
    "\n",
    "results = []\n",
    "total_models = len(depths) * len(learning_rates) * len(subsamples) * len(min_data_in_leafs) * len(colsample_bylevels)\n",
    "i = 0\n",
    "for depth in depths:\n",
    "    for lr in learning_rates:\n",
    "        for subsample in subsamples:\n",
    "            for min_data_in_leaf in min_data_in_leafs:\n",
    "                for colsample_bylevel in colsample_bylevels:\n",
    "                  fold_scores = []\n",
    "                  print(f\"Modelo {i+1}/{total_models}\")\n",
    "                  i += 1\n",
    "                  print(f\"depth={depth}, learning_rate={lr}, subsample={subsample}, min_data_in_leaf={min_data_in_leaf}, colsample_bylevel={colsample_bylevel}\")\n",
    "                  for train_index, val_index in kf.split(train):\n",
    "                      train_fold = train.iloc[train_index].copy()\n",
    "                      val_fold = train.iloc[val_index].copy()\n",
    "                      preprocessor = Preprocessor(train_fold)\n",
    "                      train_fold_proc = preprocessor.preprocess(train_fold)\n",
    "                      val_fold_proc = preprocessor.preprocess(val_fold)\n",
    "                      X_tr = train_fold_proc.drop(columns='Precio')\n",
    "                      y_tr = train_fold_proc['Precio']\n",
    "                      X_val = val_fold_proc.drop(columns='Precio')\n",
    "                      y_val = val_fold_proc['Precio']\n",
    "                      model = CatBoostRegressor(\n",
    "                          depth=depth,\n",
    "                          learning_rate=lr,\n",
    "                          iterations=iterations,\n",
    "                          loss_function='RMSE',\n",
    "                          eval_metric='RMSE',\n",
    "                          random_seed=42,\n",
    "                          verbose=0,\n",
    "                          text_features=['Título', 'Versión', 'Descripción'],\n",
    "                          bootstrap_type='Bernoulli',\n",
    "                          subsample=subsample,\n",
    "                          min_data_in_leaf=min_data_in_leaf,\n",
    "                          colsample_bylevel=colsample_bylevel, \n",
    "                      )\n",
    "                      model.fit(\n",
    "                          X_tr, y_tr,\n",
    "                          eval_set=(X_val, y_val),\n",
    "                          early_stopping_rounds=100,\n",
    "                          use_best_model=True\n",
    "                      )\n",
    "                      preds = model.predict(X_val)\n",
    "                      rmse = mean_squared_error(y_val, preds)\n",
    "                      rmse = np.sqrt(rmse)\n",
    "                      fold_scores.append(rmse)\n",
    "                  print(f\"Promedio RMSE: {np.mean(fold_scores)}\")\n",
    "                  avg_rmse = np.mean(fold_scores)\n",
    "                  results.append({\n",
    "                      'depth': depth,\n",
    "                      'learning_rate': lr,\n",
    "                      'score': avg_rmse\n",
    "                  })\n",
    "results.sort(key=lambda x: x['score'])\n",
    "best = results[0]\n",
    "print(\"Mejor configuración:\")\n",
    "print(f\"depth={best['depth']}, learning_rate={best['learning_rate']}, RMSE={best['score']:.4f}\")"
   ]
  }
 ],
 "metadata": {
  "kernelspec": {
   "display_name": "Python 3",
   "language": "python",
   "name": "python3"
  },
  "language_info": {
   "codemirror_mode": {
    "name": "ipython",
    "version": 3
   },
   "file_extension": ".py",
   "mimetype": "text/x-python",
   "name": "python",
   "nbconvert_exporter": "python",
   "pygments_lexer": "ipython3",
   "version": "3.13.2"
  }
 },
 "nbformat": 4,
 "nbformat_minor": 5
}
