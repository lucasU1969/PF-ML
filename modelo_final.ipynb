{
 "cells": [
  {
   "cell_type": "code",
   "execution_count": 2,
   "id": "f4be52e4",
   "metadata": {},
   "outputs": [],
   "source": [
    "from sklearn.metrics import mean_squared_error, r2_score, mean_absolute_error\n",
    "from sklearn.model_selection import train_test_split\n",
    "from src.preprocessing import Preprocessor\n",
    "from catboost import CatBoostRegressor\n",
    "import pandas as pd\n",
    "import matplotlib.pyplot as plt"
   ]
  },
  {
   "cell_type": "code",
   "execution_count": 3,
   "id": "fc618458",
   "metadata": {},
   "outputs": [],
   "source": [
    "dataset = pd.read_csv(\"data/pf_suvs_i302_1s2025.csv\")"
   ]
  },
  {
   "cell_type": "code",
   "execution_count": 4,
   "id": "11a11b8c",
   "metadata": {},
   "outputs": [],
   "source": [
    "train, test = train_test_split(dataset, test_size=0.2, random_state=42)\n",
    "val, test = train_test_split(test, test_size=0.5, random_state=42)"
   ]
  },
  {
   "cell_type": "code",
   "execution_count": 5,
   "id": "3fe4d601",
   "metadata": {},
   "outputs": [],
   "source": [
    "preprocessor = Preprocessor(train)"
   ]
  },
  {
   "cell_type": "code",
   "execution_count": 6,
   "id": "b657c6da",
   "metadata": {},
   "outputs": [],
   "source": [
    "train = preprocessor.preprocess(train)"
   ]
  },
  {
   "cell_type": "code",
   "execution_count": 7,
   "id": "39fe8f69",
   "metadata": {},
   "outputs": [],
   "source": [
    "val = preprocessor.preprocess(val)"
   ]
  },
  {
   "cell_type": "code",
   "execution_count": 8,
   "id": "bd19f9b9",
   "metadata": {},
   "outputs": [],
   "source": [
    "x_train = train.drop(columns=[\"Precio\"])\n",
    "y_train = train[\"Precio\"]\n",
    "\n",
    "x_val = val.drop(columns=[\"Precio\"])\n",
    "y_val = val[\"Precio\"]"
   ]
  },
  {
   "cell_type": "code",
   "execution_count": 9,
   "id": "0ec98cd3",
   "metadata": {},
   "outputs": [
    {
     "name": "stdout",
     "output_type": "stream",
     "text": [
      "0:\tlearn: 18924.7010482\ttest: 21319.0712408\tbest: 21319.0712408 (0)\ttotal: 11.2s\tremaining: 4h 39m 27s\n"
     ]
    },
    {
     "ename": "KeyboardInterrupt",
     "evalue": "",
     "output_type": "error",
     "traceback": [
      "\u001b[31m---------------------------------------------------------------------------\u001b[39m",
      "\u001b[31mKeyboardInterrupt\u001b[39m                         Traceback (most recent call last)",
      "\u001b[36mCell\u001b[39m\u001b[36m \u001b[39m\u001b[32mIn[9]\u001b[39m\u001b[32m, line 16\u001b[39m\n\u001b[32m      1\u001b[39m cboost = CatBoostRegressor(\n\u001b[32m      2\u001b[39m     iterations=\u001b[32m1500\u001b[39m,\n\u001b[32m      3\u001b[39m     learning_rate=\u001b[32m0.1\u001b[39m,\n\u001b[32m   (...)\u001b[39m\u001b[32m     13\u001b[39m     colsample_bylevel=\u001b[32m0.75\u001b[39m, \n\u001b[32m     14\u001b[39m )\n\u001b[32m---> \u001b[39m\u001b[32m16\u001b[39m cboost.fit(\n\u001b[32m     17\u001b[39m     x_train, y_train,\n\u001b[32m     18\u001b[39m     eval_set=(x_val, y_val),\n\u001b[32m     19\u001b[39m     use_best_model=\u001b[38;5;28;01mTrue\u001b[39;00m,\n\u001b[32m     20\u001b[39m     early_stopping_rounds=\u001b[32m100\u001b[39m\n\u001b[32m     21\u001b[39m )\n",
      "\u001b[36mFile \u001b[39m\u001b[32m~/miniconda3/envs/pf/lib/python3.13/site-packages/catboost/core.py:5873\u001b[39m, in \u001b[36mCatBoostRegressor.fit\u001b[39m\u001b[34m(self, X, y, cat_features, text_features, embedding_features, graph, sample_weight, baseline, use_best_model, eval_set, verbose, logging_level, plot, plot_file, column_description, verbose_eval, metric_period, silent, early_stopping_rounds, save_snapshot, snapshot_file, snapshot_interval, init_model, callbacks, log_cout, log_cerr)\u001b[39m\n\u001b[32m   5871\u001b[39m \u001b[38;5;28;01mif\u001b[39;00m \u001b[33m'\u001b[39m\u001b[33mloss_function\u001b[39m\u001b[33m'\u001b[39m \u001b[38;5;129;01min\u001b[39;00m params:\n\u001b[32m   5872\u001b[39m     CatBoostRegressor._check_is_compatible_loss(params[\u001b[33m'\u001b[39m\u001b[33mloss_function\u001b[39m\u001b[33m'\u001b[39m])\n\u001b[32m-> \u001b[39m\u001b[32m5873\u001b[39m \u001b[38;5;28;01mreturn\u001b[39;00m \u001b[38;5;28mself\u001b[39m._fit(X, y, cat_features, text_features, embedding_features, \u001b[38;5;28;01mNone\u001b[39;00m, graph, sample_weight, \u001b[38;5;28;01mNone\u001b[39;00m, \u001b[38;5;28;01mNone\u001b[39;00m, \u001b[38;5;28;01mNone\u001b[39;00m, \u001b[38;5;28;01mNone\u001b[39;00m, baseline,\n\u001b[32m   5874\u001b[39m                  use_best_model, eval_set, verbose, logging_level, plot, plot_file, column_description,\n\u001b[32m   5875\u001b[39m                  verbose_eval, metric_period, silent, early_stopping_rounds,\n\u001b[32m   5876\u001b[39m                  save_snapshot, snapshot_file, snapshot_interval, init_model, callbacks, log_cout, log_cerr)\n",
      "\u001b[36mFile \u001b[39m\u001b[32m~/miniconda3/envs/pf/lib/python3.13/site-packages/catboost/core.py:2410\u001b[39m, in \u001b[36mCatBoost._fit\u001b[39m\u001b[34m(self, X, y, cat_features, text_features, embedding_features, pairs, graph, sample_weight, group_id, group_weight, subgroup_id, pairs_weight, baseline, use_best_model, eval_set, verbose, logging_level, plot, plot_file, column_description, verbose_eval, metric_period, silent, early_stopping_rounds, save_snapshot, snapshot_file, snapshot_interval, init_model, callbacks, log_cout, log_cerr)\u001b[39m\n\u001b[32m   2407\u001b[39m allow_clear_pool = train_params[\u001b[33m\"\u001b[39m\u001b[33mallow_clear_pool\u001b[39m\u001b[33m\"\u001b[39m]\n\u001b[32m   2409\u001b[39m \u001b[38;5;28;01mwith\u001b[39;00m plot_wrapper(plot, plot_file, \u001b[33m'\u001b[39m\u001b[33mTraining plots\u001b[39m\u001b[33m'\u001b[39m, [_get_train_dir(\u001b[38;5;28mself\u001b[39m.get_params())]):\n\u001b[32m-> \u001b[39m\u001b[32m2410\u001b[39m     \u001b[38;5;28mself\u001b[39m._train(\n\u001b[32m   2411\u001b[39m         train_pool,\n\u001b[32m   2412\u001b[39m         train_params[\u001b[33m\"\u001b[39m\u001b[33meval_sets\u001b[39m\u001b[33m\"\u001b[39m],\n\u001b[32m   2413\u001b[39m         params,\n\u001b[32m   2414\u001b[39m         allow_clear_pool,\n\u001b[32m   2415\u001b[39m         train_params[\u001b[33m\"\u001b[39m\u001b[33minit_model\u001b[39m\u001b[33m\"\u001b[39m]\n\u001b[32m   2416\u001b[39m     )\n\u001b[32m   2418\u001b[39m \u001b[38;5;66;03m# Have property feature_importance possibly set\u001b[39;00m\n\u001b[32m   2419\u001b[39m loss = \u001b[38;5;28mself\u001b[39m._object._get_loss_function_name()\n",
      "\u001b[36mFile \u001b[39m\u001b[32m~/miniconda3/envs/pf/lib/python3.13/site-packages/catboost/core.py:1790\u001b[39m, in \u001b[36m_CatBoostBase._train\u001b[39m\u001b[34m(self, train_pool, test_pool, params, allow_clear_pool, init_model)\u001b[39m\n\u001b[32m   1789\u001b[39m \u001b[38;5;28;01mdef\u001b[39;00m\u001b[38;5;250m \u001b[39m\u001b[34m_train\u001b[39m(\u001b[38;5;28mself\u001b[39m, train_pool, test_pool, params, allow_clear_pool, init_model):\n\u001b[32m-> \u001b[39m\u001b[32m1790\u001b[39m     \u001b[38;5;28mself\u001b[39m._object._train(train_pool, test_pool, params, allow_clear_pool, init_model._object \u001b[38;5;28;01mif\u001b[39;00m init_model \u001b[38;5;28;01melse\u001b[39;00m \u001b[38;5;28;01mNone\u001b[39;00m)\n\u001b[32m   1791\u001b[39m     \u001b[38;5;28mself\u001b[39m._set_trained_model_attributes()\n",
      "\u001b[36mFile \u001b[39m\u001b[32m_catboost.pyx:5023\u001b[39m, in \u001b[36m_catboost._CatBoost._train\u001b[39m\u001b[34m()\u001b[39m\n",
      "\u001b[36mFile \u001b[39m\u001b[32m_catboost.pyx:5072\u001b[39m, in \u001b[36m_catboost._CatBoost._train\u001b[39m\u001b[34m()\u001b[39m\n",
      "\u001b[31mKeyboardInterrupt\u001b[39m: "
     ]
    }
   ],
   "source": [
    "cboost = CatBoostRegressor(\n",
    "    iterations=1500,\n",
    "    learning_rate=0.1,\n",
    "    depth=8,    \n",
    "    loss_function='RMSE',\n",
    "    eval_metric='RMSE',\n",
    "    random_seed=42,\n",
    "    verbose=100,\n",
    "    text_features=['Versión', 'Título', 'Descripción'], \n",
    "    bootstrap_type= 'Bernoulli',\n",
    "    subsample=0.75, \n",
    "    min_data_in_leaf=10,\n",
    "    colsample_bylevel=0.75, \n",
    ")\n",
    "\n",
    "cboost.fit(\n",
    "    x_train, y_train,\n",
    "    eval_set=(x_val, y_val),\n",
    "    use_best_model=True,\n",
    "    early_stopping_rounds=100\n",
    ")"
   ]
  },
  {
   "cell_type": "code",
   "execution_count": null,
   "id": "10a892b2",
   "metadata": {},
   "outputs": [
    {
     "ename": "NameError",
     "evalue": "name 'cboost' is not defined",
     "output_type": "error",
     "traceback": [
      "\u001b[31m---------------------------------------------------------------------------\u001b[39m",
      "\u001b[31mNameError\u001b[39m                                 Traceback (most recent call last)",
      "\u001b[36mCell\u001b[39m\u001b[36m \u001b[39m\u001b[32mIn[1]\u001b[39m\u001b[32m, line 1\u001b[39m\n\u001b[32m----> \u001b[39m\u001b[32m1\u001b[39m \u001b[38;5;28mprint\u001b[39m(cboost.get_all_params())\n",
      "\u001b[31mNameError\u001b[39m: name 'cboost' is not defined"
     ]
    }
   ],
   "source": [
    "print(cboost.get_all_params())"
   ]
  },
  {
   "cell_type": "markdown",
   "id": "71dfb5b2",
   "metadata": {},
   "source": [
    "## Validación"
   ]
  },
  {
   "cell_type": "code",
   "execution_count": null,
   "id": "3c56b4d5",
   "metadata": {},
   "outputs": [
    {
     "name": "stdout",
     "output_type": "stream",
     "text": [
      "Root Mean Squared Error: 5510.293809266538\n",
      "R^2 Score: 0.9395135547165873\n",
      "Mean Absolute Error: 2645.880346249927\n"
     ]
    }
   ],
   "source": [
    "y_pred = cboost.predict(x_val)\n",
    "mse = mean_squared_error(y_val, y_pred)\n",
    "rmse = mse ** 0.5\n",
    "print(f\"Root Mean Squared Error: {rmse}\")\n",
    "\n",
    "r2 = r2_score(y_val, y_pred)\n",
    "print(f\"R^2 Score: {r2}\")\n",
    "\n",
    "mae = mean_absolute_error(y_val, y_pred)\n",
    "print(f\"Mean Absolute Error: {mae}\")\n"
   ]
  },
  {
   "cell_type": "code",
   "execution_count": null,
   "id": "f6331dd8",
   "metadata": {},
   "outputs": [
    {
     "data": {
      "image/png": "[encoded data removed]",
      "text/plain": [
       "<Figure size 800x500 with 1 Axes>"
      ]
     },
     "metadata": {},
     "output_type": "display_data"
    }
   ],
   "source": [
    "evals_result = cboost.get_evals_result()\n",
    "train_loss = evals_result['learn']['RMSE']\n",
    "valid_loss = evals_result['validation']['RMSE']\n",
    "plt.figure(figsize=(8, 5))\n",
    "plt.plot(train_loss, label='Error de entrenamiento', color='darkgreen')\n",
    "plt.plot(valid_loss, label='Error de validación', color='deeppink')\n",
    "plt.xlabel('Iteración')\n",
    "plt.ylabel('RMSE')\n",
    "plt.legend()\n",
    "plt.grid(True)\n",
    "plt.tight_layout()\n",
    "plt.show()"
   ]
  },
  {
   "cell_type": "markdown",
   "id": "932dbd30",
   "metadata": {},
   "source": [
    "## Entrenamiento"
   ]
  },
  {
   "cell_type": "code",
   "execution_count": null,
   "id": "004db9d3",
   "metadata": {},
   "outputs": [
    {
     "name": "stdout",
     "output_type": "stream",
     "text": [
      "Train Root Mean Squared Error: 3071.257953611578\n",
      "Train R^2 Score: 0.9767664836771189\n",
      "Train Mean Absolute Error: 2086.4624227129316\n"
     ]
    }
   ],
   "source": [
    "y_pred_train = cboost.predict(x_train)\n",
    "mse_train = mean_squared_error(y_train, y_pred_train)\n",
    "rmse_train = mse_train ** 0.5\n",
    "print(f\"Train Root Mean Squared Error: {rmse_train}\")\n",
    "r2_train = r2_score(y_train, y_pred_train)\n",
    "print(f\"Train R^2 Score: {r2_train}\")\n",
    "mae_train = mean_absolute_error(y_train, y_pred_train)\n",
    "print(f\"Train Mean Absolute Error: {mae_train}\")"
   ]
  },
  {
   "cell_type": "markdown",
   "id": "d54c9ce3",
   "metadata": {},
   "source": [
    "## Test"
   ]
  },
  {
   "cell_type": "code",
   "execution_count": null,
   "id": "f6bdee2c",
   "metadata": {},
   "outputs": [],
   "source": [
    "test = preprocessor.preprocess(test)"
   ]
  },
  {
   "cell_type": "code",
   "execution_count": null,
   "id": "a799b4d0",
   "metadata": {},
   "outputs": [],
   "source": [
    "x_test = test.drop(columns=[\"Precio\"])\n",
    "y_test = test[\"Precio\"]"
   ]
  },
  {
   "cell_type": "code",
   "execution_count": null,
   "id": "b4089c29",
   "metadata": {},
   "outputs": [
    {
     "name": "stdout",
     "output_type": "stream",
     "text": [
      "Test Root Mean Squared Error: 5998.732697502069\n",
      "Test R^2 Score: 0.906476182179518\n",
      "Test Mean Absolute Error: 2694.3337662401186\n"
     ]
    }
   ],
   "source": [
    "y_pred_test = cboost.predict(x_test)\n",
    "mse_test = mean_squared_error(y_test, y_pred_test)\n",
    "rmse_test = mse_test ** 0.5\n",
    "print(f\"Test Root Mean Squared Error: {rmse_test}\")\n",
    "r2_test = r2_score(y_test, y_pred_test)\n",
    "print(f\"Test R^2 Score: {r2_test}\")\n",
    "mae_test = mean_absolute_error(y_test, y_pred_test)\n",
    "print(f\"Test Mean Absolute Error: {mae_test}\")"
   ]
  }
 ],
 "metadata": {
  "kernelspec": {
   "display_name": "pf",
   "language": "python",
   "name": "python3"
  },
  "language_info": {
   "codemirror_mode": {
    "name": "ipython",
    "version": 3
   },
   "file_extension": ".py",
   "mimetype": "text/x-python",
   "name": "python",
   "nbconvert_exporter": "python",
   "pygments_lexer": "ipython3",
   "version": "3.13.4"
  }
 },
 "nbformat": 4,
 "nbformat_minor": 5
}
