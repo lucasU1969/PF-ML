{
 "cells": [
  {
   "cell_type": "code",
   "execution_count": 110,
   "id": "48dc08c9",
   "metadata": {},
   "outputs": [
    {
     "name": "stdout",
     "output_type": "stream",
     "text": [
      "The autoreload extension is already loaded. To reload it, use:\n",
      "  %reload_ext autoreload\n"
     ]
    }
   ],
   "source": [
    "%load_ext autoreload\n",
    "%autoreload 2"
   ]
  },
  {
   "cell_type": "code",
   "execution_count": 111,
   "id": "40209f79",
   "metadata": {},
   "outputs": [],
   "source": [
    "from src.preprocessing import Preprocessor\n",
    "from sklearn.model_selection import train_test_split\n",
    "import pandas as pd\n",
    "from catboost import CatBoostRegressor\n",
    "import numpy as np"
   ]
  },
  {
   "cell_type": "code",
   "execution_count": 112,
   "id": "fc42ab46",
   "metadata": {},
   "outputs": [],
   "source": [
    "dataset = pd.read_csv(\"data/pf_suvs_i302_1s2025.csv\")"
   ]
  },
  {
   "cell_type": "code",
   "execution_count": 113,
   "id": "03b04134",
   "metadata": {},
   "outputs": [],
   "source": [
    "train, test = train_test_split(dataset, test_size=0.2, random_state=42)\n",
    "val, test = train_test_split(test, test_size=0.5, random_state=42)"
   ]
  },
  {
   "cell_type": "code",
   "execution_count": 114,
   "id": "db1e7715",
   "metadata": {},
   "outputs": [],
   "source": [
    "preprocessor = Preprocessor(train)"
   ]
  },
  {
   "cell_type": "code",
   "execution_count": 115,
   "id": "769ce27a",
   "metadata": {},
   "outputs": [],
   "source": [
    "train = preprocessor.preprocess(train)"
   ]
  },
  {
   "cell_type": "code",
   "execution_count": 116,
   "id": "d0a669a5",
   "metadata": {},
   "outputs": [],
   "source": [
    "val = preprocessor.preprocess(val)"
   ]
  },
  {
   "cell_type": "code",
   "execution_count": 117,
   "id": "74e1f7a4",
   "metadata": {},
   "outputs": [],
   "source": [
    "x_train = train.drop(columns=[\"Precio\"])\n",
    "y_train = train[\"Precio\"]\n",
    "\n",
    "x_val = val.drop(columns=[\"Precio\"])\n",
    "y_val = val[\"Precio\"]"
   ]
  },
  {
   "cell_type": "code",
   "execution_count": 121,
   "id": "e1814e3a",
   "metadata": {},
   "outputs": [
    {
     "name": "stdout",
     "output_type": "stream",
     "text": [
      "0:\tlearn: 18980.3530925\ttest: 21210.9530740\tbest: 21210.9530740 (0)\ttotal: 1.65ms\tremaining: 3.29s\n",
      "100:\tlearn: 6689.7727245\ttest: 7245.8922892\tbest: 7245.8922892 (100)\ttotal: 164ms\tremaining: 3.09s\n",
      "200:\tlearn: 5721.7486967\ttest: 6148.2833176\tbest: 6148.2833176 (200)\ttotal: 324ms\tremaining: 2.9s\n",
      "300:\tlearn: 5157.1969995\ttest: 5812.8579104\tbest: 5812.8579104 (300)\ttotal: 480ms\tremaining: 2.71s\n",
      "400:\tlearn: 4744.3290507\ttest: 5628.9216778\tbest: 5628.9216778 (400)\ttotal: 628ms\tremaining: 2.5s\n",
      "500:\tlearn: 4444.0624689\ttest: 5461.9592199\tbest: 5461.9592199 (500)\ttotal: 785ms\tremaining: 2.35s\n",
      "600:\tlearn: 4241.8449104\ttest: 5408.3276236\tbest: 5408.3276236 (600)\ttotal: 941ms\tremaining: 2.19s\n",
      "700:\tlearn: 4053.0557446\ttest: 5357.9926697\tbest: 5357.9926697 (700)\ttotal: 1.09s\tremaining: 2.03s\n",
      "800:\tlearn: 3871.0588333\ttest: 5307.0060693\tbest: 5305.2236092 (791)\ttotal: 1.27s\tremaining: 1.9s\n",
      "900:\tlearn: 3714.1451401\ttest: 5283.7423368\tbest: 5280.9291045 (870)\ttotal: 1.43s\tremaining: 1.74s\n",
      "1000:\tlearn: 3537.4679890\ttest: 5238.0845554\tbest: 5238.0845554 (1000)\ttotal: 1.6s\tremaining: 1.6s\n",
      "1100:\tlearn: 3411.2864846\ttest: 5201.4813285\tbest: 5196.0375546 (1091)\ttotal: 1.77s\tremaining: 1.44s\n",
      "1200:\tlearn: 3286.9161302\ttest: 5217.1639621\tbest: 5196.0375546 (1091)\ttotal: 1.92s\tremaining: 1.28s\n",
      "1300:\tlearn: 3171.6055042\ttest: 5218.6041051\tbest: 5196.0375546 (1091)\ttotal: 2.1s\tremaining: 1.13s\n",
      "1400:\tlearn: 3093.1754872\ttest: 5207.9401629\tbest: 5196.0375546 (1091)\ttotal: 2.25s\tremaining: 964ms\n",
      "1500:\tlearn: 3015.0796938\ttest: 5210.8458956\tbest: 5196.0375546 (1091)\ttotal: 2.41s\tremaining: 801ms\n",
      "1600:\tlearn: 2944.6962167\ttest: 5214.2861175\tbest: 5196.0375546 (1091)\ttotal: 2.58s\tremaining: 643ms\n",
      "1700:\tlearn: 2884.6312267\ttest: 5210.0511795\tbest: 5196.0375546 (1091)\ttotal: 2.76s\tremaining: 484ms\n",
      "1800:\tlearn: 2825.0926529\ttest: 5209.8231845\tbest: 5196.0375546 (1091)\ttotal: 2.93s\tremaining: 324ms\n",
      "1900:\tlearn: 2779.2181064\ttest: 5203.1153637\tbest: 5196.0375546 (1091)\ttotal: 3.1s\tremaining: 162ms\n",
      "1999:\tlearn: 2721.7548446\ttest: 5229.5704134\tbest: 5196.0375546 (1091)\ttotal: 3.28s\tremaining: 0us\n",
      "\n",
      "bestTest = 5196.037555\n",
      "bestIteration = 1091\n",
      "\n",
      "Shrink model to first 1092 iterations.\n"
     ]
    },
    {
     "data": {
      "text/plain": [
       "<catboost.core.CatBoostRegressor at 0x7fd80fde1250>"
      ]
     },
     "execution_count": 121,
     "metadata": {},
     "output_type": "execute_result"
    }
   ],
   "source": [
    "cboost = CatBoostRegressor(\n",
    "    iterations=2000,\n",
    "    learning_rate=0.1,\n",
    "    depth=6,\n",
    "    loss_function='RMSE',\n",
    "    eval_metric='RMSE',\n",
    "    random_seed=42,\n",
    "    verbose=100\n",
    ")\n",
    "\n",
    "cboost.fit(\n",
    "    x_train, y_train,\n",
    "    eval_set=(x_val, y_val),\n",
    "    use_best_model=True\n",
    ")"
   ]
  },
  {
   "cell_type": "code",
   "execution_count": 122,
   "id": "81c9f47e",
   "metadata": {},
   "outputs": [
    {
     "name": "stdout",
     "output_type": "stream",
     "text": [
      "Root Mean Squared Error: 5196.037554483751\n",
      "R^2 Score: 0.9462159982109386\n",
      "Mean Absolute Error: 2717.495585040098\n"
     ]
    }
   ],
   "source": [
    "from sklearn.metrics import mean_squared_error, r2_score, mean_absolute_error\n",
    "\n",
    "y_pred = cboost.predict(x_val)\n",
    "mse = mean_squared_error(y_val, y_pred)\n",
    "rmse = mse ** 0.5\n",
    "print(f\"Root Mean Squared Error: {rmse}\")\n",
    "\n",
    "r2 = r2_score(y_val, y_pred)\n",
    "print(f\"R^2 Score: {r2}\")\n",
    "\n",
    "mae = mean_absolute_error(y_val, y_pred)\n",
    "print(f\"Mean Absolute Error: {mae}\")\n"
   ]
  },
  {
   "cell_type": "code",
   "execution_count": 120,
   "id": "8d543c76",
   "metadata": {},
   "outputs": [
    {
     "name": "stdout",
     "output_type": "stream",
     "text": [
      "0:\tlearn: 18980.3530925\ttest: 21210.9530740\tbest: 21210.9530740 (0)\ttotal: 2.09ms\tremaining: 103ms\n",
      "49:\tlearn: 7764.9738638\ttest: 8842.6584894\tbest: 8842.6584894 (49)\ttotal: 112ms\tremaining: 0us\n",
      "\n",
      "bestTest = 8842.658489\n",
      "bestIteration = 49\n",
      "\n",
      "Iterations: 50, RMSE: 8842.658496668875\n",
      "0:\tlearn: 18980.3530925\ttest: 21210.9530740\tbest: 21210.9530740 (0)\ttotal: 2.47ms\tremaining: 244ms\n",
      "99:\tlearn: 6706.0709268\ttest: 7265.0131240\tbest: 7265.0131240 (99)\ttotal: 227ms\tremaining: 0us\n",
      "\n",
      "bestTest = 7265.013124\n",
      "bestIteration = 99\n",
      "\n",
      "Iterations: 100, RMSE: 7265.0131291566295\n",
      "0:\tlearn: 18980.3530925\ttest: 21210.9530740\tbest: 21210.9530740 (0)\ttotal: 2.31ms\tremaining: 461ms\n",
      "100:\tlearn: 6689.7727245\ttest: 7245.8922892\tbest: 7245.8922892 (100)\ttotal: 223ms\tremaining: 219ms\n",
      "199:\tlearn: 5728.4380694\ttest: 6149.6167001\tbest: 6149.6167001 (199)\ttotal: 463ms\tremaining: 0us\n",
      "\n",
      "bestTest = 6149.6167\n",
      "bestIteration = 199\n",
      "\n",
      "Iterations: 200, RMSE: 6149.616705292191\n",
      "0:\tlearn: 18980.3530925\ttest: 21210.9530740\tbest: 21210.9530740 (0)\ttotal: 2.29ms\tremaining: 685ms\n",
      "100:\tlearn: 6689.7727245\ttest: 7245.8922892\tbest: 7245.8922892 (100)\ttotal: 226ms\tremaining: 446ms\n",
      "200:\tlearn: 5721.7486967\ttest: 6148.2833176\tbest: 6148.2833176 (200)\ttotal: 440ms\tremaining: 217ms\n",
      "299:\tlearn: 5163.0864774\ttest: 5816.5630928\tbest: 5816.5630928 (299)\ttotal: 701ms\tremaining: 0us\n",
      "\n",
      "bestTest = 5816.563093\n",
      "bestIteration = 299\n",
      "\n",
      "Iterations: 300, RMSE: 5816.563096482729\n",
      "0:\tlearn: 18980.3530925\ttest: 21210.9530740\tbest: 21210.9530740 (0)\ttotal: 2.66ms\tremaining: 1.06s\n",
      "100:\tlearn: 6689.7727245\ttest: 7245.8922892\tbest: 7245.8922892 (100)\ttotal: 260ms\tremaining: 770ms\n",
      "200:\tlearn: 5721.7486967\ttest: 6148.2833176\tbest: 6148.2833176 (200)\ttotal: 500ms\tremaining: 495ms\n",
      "300:\tlearn: 5157.1969995\ttest: 5812.8579104\tbest: 5812.8579104 (300)\ttotal: 730ms\tremaining: 240ms\n",
      "399:\tlearn: 4747.0447100\ttest: 5632.6151770\tbest: 5632.6151770 (399)\ttotal: 956ms\tremaining: 0us\n",
      "\n",
      "bestTest = 5632.615177\n",
      "bestIteration = 399\n",
      "\n",
      "Iterations: 400, RMSE: 5632.615178949071\n",
      "0:\tlearn: 18980.3530925\ttest: 21210.9530740\tbest: 21210.9530740 (0)\ttotal: 3.11ms\tremaining: 1.55s\n",
      "100:\tlearn: 6689.7727245\ttest: 7245.8922892\tbest: 7245.8922892 (100)\ttotal: 232ms\tremaining: 917ms\n",
      "200:\tlearn: 5721.7486967\ttest: 6148.2833176\tbest: 6148.2833176 (200)\ttotal: 462ms\tremaining: 688ms\n",
      "300:\tlearn: 5157.1969995\ttest: 5812.8579104\tbest: 5812.8579104 (300)\ttotal: 695ms\tremaining: 460ms\n",
      "400:\tlearn: 4744.3290507\ttest: 5628.9216778\tbest: 5628.9216778 (400)\ttotal: 928ms\tremaining: 229ms\n",
      "499:\tlearn: 4448.0196421\ttest: 5462.6522510\tbest: 5462.3259045 (497)\ttotal: 1.16s\tremaining: 0us\n",
      "\n",
      "bestTest = 5462.325905\n",
      "bestIteration = 497\n",
      "\n",
      "Shrink model to first 498 iterations.\n",
      "Iterations: 500, RMSE: 5462.3259051519735\n",
      "0:\tlearn: 18980.3530925\ttest: 21210.9530740\tbest: 21210.9530740 (0)\ttotal: 2.49ms\tremaining: 2.48s\n",
      "100:\tlearn: 6689.7727245\ttest: 7245.8922892\tbest: 7245.8922892 (100)\ttotal: 330ms\tremaining: 2.93s\n",
      "200:\tlearn: 5721.7486967\ttest: 6148.2833176\tbest: 6148.2833176 (200)\ttotal: 544ms\tremaining: 2.16s\n",
      "300:\tlearn: 5157.1969995\ttest: 5812.8579104\tbest: 5812.8579104 (300)\ttotal: 768ms\tremaining: 1.78s\n",
      "400:\tlearn: 4744.3290507\ttest: 5628.9216778\tbest: 5628.9216778 (400)\ttotal: 992ms\tremaining: 1.48s\n",
      "500:\tlearn: 4444.0624689\ttest: 5461.9592199\tbest: 5461.9592199 (500)\ttotal: 1.24s\tremaining: 1.23s\n",
      "600:\tlearn: 4241.8449104\ttest: 5408.3276236\tbest: 5408.3276236 (600)\ttotal: 1.48s\tremaining: 981ms\n",
      "700:\tlearn: 4053.0557446\ttest: 5357.9926697\tbest: 5357.9926697 (700)\ttotal: 1.75s\tremaining: 747ms\n",
      "800:\tlearn: 3871.0588333\ttest: 5307.0060693\tbest: 5305.2236092 (791)\ttotal: 2.03s\tremaining: 506ms\n",
      "900:\tlearn: 3714.1451401\ttest: 5283.7423368\tbest: 5280.9291045 (870)\ttotal: 2.27s\tremaining: 249ms\n",
      "999:\tlearn: 3549.0185379\ttest: 5238.1561789\tbest: 5238.1561789 (999)\ttotal: 2.51s\tremaining: 0us\n",
      "\n",
      "bestTest = 5238.156179\n",
      "bestIteration = 999\n",
      "\n",
      "Iterations: 1000, RMSE: 5238.156179217702\n",
      "0:\tlearn: 18980.3530925\ttest: 21210.9530740\tbest: 21210.9530740 (0)\ttotal: 4.23ms\tremaining: 21.2s\n",
      "100:\tlearn: 6689.7727245\ttest: 7245.8922892\tbest: 7245.8922892 (100)\ttotal: 235ms\tremaining: 11.4s\n",
      "200:\tlearn: 5721.7486967\ttest: 6148.2833176\tbest: 6148.2833176 (200)\ttotal: 463ms\tremaining: 11.1s\n",
      "300:\tlearn: 5157.1969995\ttest: 5812.8579104\tbest: 5812.8579104 (300)\ttotal: 712ms\tremaining: 11.1s\n",
      "400:\tlearn: 4744.3290507\ttest: 5628.9216778\tbest: 5628.9216778 (400)\ttotal: 941ms\tremaining: 10.8s\n",
      "500:\tlearn: 4444.0624689\ttest: 5461.9592199\tbest: 5461.9592199 (500)\ttotal: 1.17s\tremaining: 10.5s\n"
     ]
    },
    {
     "ename": "KeyboardInterrupt",
     "evalue": "",
     "output_type": "error",
     "traceback": [
      "\u001b[31m---------------------------------------------------------------------------\u001b[39m",
      "\u001b[31mKeyboardInterrupt\u001b[39m                         Traceback (most recent call last)",
      "\u001b[36mCell\u001b[39m\u001b[36m \u001b[39m\u001b[32mIn[120]\u001b[39m\u001b[32m, line 13\u001b[39m\n\u001b[32m      3\u001b[39m \u001b[38;5;28;01mfor\u001b[39;00m i \u001b[38;5;129;01min\u001b[39;00m iters:\n\u001b[32m      4\u001b[39m     cboost = CatBoostRegressor(\n\u001b[32m      5\u001b[39m         iterations=i,\n\u001b[32m      6\u001b[39m         learning_rate=\u001b[32m0.1\u001b[39m,\n\u001b[32m   (...)\u001b[39m\u001b[32m     10\u001b[39m         random_seed=\u001b[32m42\u001b[39m,\n\u001b[32m     11\u001b[39m         verbose=\u001b[32m100\u001b[39m)\n\u001b[32m---> \u001b[39m\u001b[32m13\u001b[39m     cboost.fit(\n\u001b[32m     14\u001b[39m         x_train, y_train,\n\u001b[32m     15\u001b[39m         eval_set=(x_val, y_val),\n\u001b[32m     16\u001b[39m         use_best_model=\u001b[38;5;28;01mTrue\u001b[39;00m\n\u001b[32m     17\u001b[39m     )\n\u001b[32m     19\u001b[39m     y_pred = cboost.predict(x_val)\n\u001b[32m     20\u001b[39m     mse = mean_squared_error(y_val, y_pred)\n",
      "\u001b[36mFile \u001b[39m\u001b[32m~/miniconda3/envs/pf/lib/python3.13/site-packages/catboost/core.py:5873\u001b[39m, in \u001b[36mCatBoostRegressor.fit\u001b[39m\u001b[34m(self, X, y, cat_features, text_features, embedding_features, graph, sample_weight, baseline, use_best_model, eval_set, verbose, logging_level, plot, plot_file, column_description, verbose_eval, metric_period, silent, early_stopping_rounds, save_snapshot, snapshot_file, snapshot_interval, init_model, callbacks, log_cout, log_cerr)\u001b[39m\n\u001b[32m   5871\u001b[39m \u001b[38;5;28;01mif\u001b[39;00m \u001b[33m'\u001b[39m\u001b[33mloss_function\u001b[39m\u001b[33m'\u001b[39m \u001b[38;5;129;01min\u001b[39;00m params:\n\u001b[32m   5872\u001b[39m     CatBoostRegressor._check_is_compatible_loss(params[\u001b[33m'\u001b[39m\u001b[33mloss_function\u001b[39m\u001b[33m'\u001b[39m])\n\u001b[32m-> \u001b[39m\u001b[32m5873\u001b[39m \u001b[38;5;28;01mreturn\u001b[39;00m \u001b[38;5;28mself\u001b[39m._fit(X, y, cat_features, text_features, embedding_features, \u001b[38;5;28;01mNone\u001b[39;00m, graph, sample_weight, \u001b[38;5;28;01mNone\u001b[39;00m, \u001b[38;5;28;01mNone\u001b[39;00m, \u001b[38;5;28;01mNone\u001b[39;00m, \u001b[38;5;28;01mNone\u001b[39;00m, baseline,\n\u001b[32m   5874\u001b[39m                  use_best_model, eval_set, verbose, logging_level, plot, plot_file, column_description,\n\u001b[32m   5875\u001b[39m                  verbose_eval, metric_period, silent, early_stopping_rounds,\n\u001b[32m   5876\u001b[39m                  save_snapshot, snapshot_file, snapshot_interval, init_model, callbacks, log_cout, log_cerr)\n",
      "\u001b[36mFile \u001b[39m\u001b[32m~/miniconda3/envs/pf/lib/python3.13/site-packages/catboost/core.py:2410\u001b[39m, in \u001b[36mCatBoost._fit\u001b[39m\u001b[34m(self, X, y, cat_features, text_features, embedding_features, pairs, graph, sample_weight, group_id, group_weight, subgroup_id, pairs_weight, baseline, use_best_model, eval_set, verbose, logging_level, plot, plot_file, column_description, verbose_eval, metric_period, silent, early_stopping_rounds, save_snapshot, snapshot_file, snapshot_interval, init_model, callbacks, log_cout, log_cerr)\u001b[39m\n\u001b[32m   2407\u001b[39m allow_clear_pool = train_params[\u001b[33m\"\u001b[39m\u001b[33mallow_clear_pool\u001b[39m\u001b[33m\"\u001b[39m]\n\u001b[32m   2409\u001b[39m \u001b[38;5;28;01mwith\u001b[39;00m plot_wrapper(plot, plot_file, \u001b[33m'\u001b[39m\u001b[33mTraining plots\u001b[39m\u001b[33m'\u001b[39m, [_get_train_dir(\u001b[38;5;28mself\u001b[39m.get_params())]):\n\u001b[32m-> \u001b[39m\u001b[32m2410\u001b[39m     \u001b[38;5;28mself\u001b[39m._train(\n\u001b[32m   2411\u001b[39m         train_pool,\n\u001b[32m   2412\u001b[39m         train_params[\u001b[33m\"\u001b[39m\u001b[33meval_sets\u001b[39m\u001b[33m\"\u001b[39m],\n\u001b[32m   2413\u001b[39m         params,\n\u001b[32m   2414\u001b[39m         allow_clear_pool,\n\u001b[32m   2415\u001b[39m         train_params[\u001b[33m\"\u001b[39m\u001b[33minit_model\u001b[39m\u001b[33m\"\u001b[39m]\n\u001b[32m   2416\u001b[39m     )\n\u001b[32m   2418\u001b[39m \u001b[38;5;66;03m# Have property feature_importance possibly set\u001b[39;00m\n\u001b[32m   2419\u001b[39m loss = \u001b[38;5;28mself\u001b[39m._object._get_loss_function_name()\n",
      "\u001b[36mFile \u001b[39m\u001b[32m~/miniconda3/envs/pf/lib/python3.13/site-packages/catboost/core.py:1790\u001b[39m, in \u001b[36m_CatBoostBase._train\u001b[39m\u001b[34m(self, train_pool, test_pool, params, allow_clear_pool, init_model)\u001b[39m\n\u001b[32m   1789\u001b[39m \u001b[38;5;28;01mdef\u001b[39;00m\u001b[38;5;250m \u001b[39m\u001b[34m_train\u001b[39m(\u001b[38;5;28mself\u001b[39m, train_pool, test_pool, params, allow_clear_pool, init_model):\n\u001b[32m-> \u001b[39m\u001b[32m1790\u001b[39m     \u001b[38;5;28mself\u001b[39m._object._train(train_pool, test_pool, params, allow_clear_pool, init_model._object \u001b[38;5;28;01mif\u001b[39;00m init_model \u001b[38;5;28;01melse\u001b[39;00m \u001b[38;5;28;01mNone\u001b[39;00m)\n\u001b[32m   1791\u001b[39m     \u001b[38;5;28mself\u001b[39m._set_trained_model_attributes()\n",
      "\u001b[36mFile \u001b[39m\u001b[32m_catboost.pyx:5023\u001b[39m, in \u001b[36m_catboost._CatBoost._train\u001b[39m\u001b[34m()\u001b[39m\n",
      "\u001b[36mFile \u001b[39m\u001b[32m_catboost.pyx:5072\u001b[39m, in \u001b[36m_catboost._CatBoost._train\u001b[39m\u001b[34m()\u001b[39m\n",
      "\u001b[31mKeyboardInterrupt\u001b[39m: "
     ]
    }
   ],
   "source": [
    "iters = [50, 100, 200, 300, 400, 500, 1000, 5000, 10000]\n",
    "rmses = []\n",
    "for i in iters:\n",
    "    cboost = CatBoostRegressor(\n",
    "        iterations=i,\n",
    "        learning_rate=0.1,\n",
    "        depth=6,\n",
    "        loss_function='RMSE',\n",
    "        eval_metric='RMSE',\n",
    "        random_seed=42,\n",
    "        verbose=100)\n",
    "\n",
    "    cboost.fit(\n",
    "        x_train, y_train,\n",
    "        eval_set=(x_val, y_val),\n",
    "        use_best_model=True\n",
    "    )\n",
    "\n",
    "    y_pred = cboost.predict(x_val)\n",
    "    mse = mean_squared_error(y_val, y_pred)\n",
    "    rmse = mse ** 0.5\n",
    "    rmses.append(rmse)\n",
    "    print(f\"Iterations: {i}, RMSE: {rmse}\")"
   ]
  },
  {
   "cell_type": "code",
   "execution_count": null,
   "id": "69d96c8f",
   "metadata": {},
   "outputs": [
    {
     "data": {
      "image/png": "[encoded data removed]",
      "text/plain": [
       "<Figure size 640x480 with 1 Axes>"
      ]
     },
     "metadata": {},
     "output_type": "display_data"
    }
   ],
   "source": [
    "import matplotlib.pyplot as plt\n",
    "\n",
    "plt.plot(iters, rmses, marker='o')\n",
    "plt.xlabel('Iterations')\n",
    "plt.ylabel('RMSE')\n",
    "plt.xscale('log')\n",
    "plt.grid(True)\n",
    "plt.show()"
   ]
  }
 ],
 "metadata": {
  "kernelspec": {
   "display_name": "pf",
   "language": "python",
   "name": "python3"
  },
  "language_info": {
   "codemirror_mode": {
    "name": "ipython",
    "version": 3
   },
   "file_extension": ".py",
   "mimetype": "text/x-python",
   "name": "python",
   "nbconvert_exporter": "python",
   "pygments_lexer": "ipython3",
   "version": "3.13.4"
  }
 },
 "nbformat": 4,
 "nbformat_minor": 5
}
